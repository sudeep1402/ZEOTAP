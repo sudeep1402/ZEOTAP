{
  "nbformat": 4,
  "nbformat_minor": 0,
  "metadata": {
    "colab": {
      "provenance": []
    },
    "kernelspec": {
      "name": "python3",
      "display_name": "Python 3"
    },
    "language_info": {
      "name": "python"
    }
  },
  "cells": [
    {
      "cell_type": "markdown",
      "source": [
        "# Lookalike Model"
      ],
      "metadata": {
        "id": "isX_ruvhyoFp"
      }
    },
    {
      "cell_type": "code",
      "source": [
        "!pip install pandas numpy matplotlib seaborn scikit-learn"
      ],
      "metadata": {
        "colab": {
          "base_uri": "https://localhost:8080/"
        },
        "id": "60MAd6gjywXM",
        "outputId": "deb22864-dda8-4c35-b86e-d70778431240"
      },
      "execution_count": 1,
      "outputs": [
        {
          "output_type": "stream",
          "name": "stdout",
          "text": [
            "Requirement already satisfied: pandas in /usr/local/lib/python3.11/dist-packages (2.2.2)\n",
            "Requirement already satisfied: numpy in /usr/local/lib/python3.11/dist-packages (1.26.4)\n",
            "Requirement already satisfied: matplotlib in /usr/local/lib/python3.11/dist-packages (3.10.0)\n",
            "Requirement already satisfied: seaborn in /usr/local/lib/python3.11/dist-packages (0.13.2)\n",
            "Requirement already satisfied: scikit-learn in /usr/local/lib/python3.11/dist-packages (1.6.1)\n",
            "Requirement already satisfied: python-dateutil>=2.8.2 in /usr/local/lib/python3.11/dist-packages (from pandas) (2.8.2)\n",
            "Requirement already satisfied: pytz>=2020.1 in /usr/local/lib/python3.11/dist-packages (from pandas) (2024.2)\n",
            "Requirement already satisfied: tzdata>=2022.7 in /usr/local/lib/python3.11/dist-packages (from pandas) (2025.1)\n",
            "Requirement already satisfied: contourpy>=1.0.1 in /usr/local/lib/python3.11/dist-packages (from matplotlib) (1.3.1)\n",
            "Requirement already satisfied: cycler>=0.10 in /usr/local/lib/python3.11/dist-packages (from matplotlib) (0.12.1)\n",
            "Requirement already satisfied: fonttools>=4.22.0 in /usr/local/lib/python3.11/dist-packages (from matplotlib) (4.55.5)\n",
            "Requirement already satisfied: kiwisolver>=1.3.1 in /usr/local/lib/python3.11/dist-packages (from matplotlib) (1.4.8)\n",
            "Requirement already satisfied: packaging>=20.0 in /usr/local/lib/python3.11/dist-packages (from matplotlib) (24.2)\n",
            "Requirement already satisfied: pillow>=8 in /usr/local/lib/python3.11/dist-packages (from matplotlib) (11.1.0)\n",
            "Requirement already satisfied: pyparsing>=2.3.1 in /usr/local/lib/python3.11/dist-packages (from matplotlib) (3.2.1)\n",
            "Requirement already satisfied: scipy>=1.6.0 in /usr/local/lib/python3.11/dist-packages (from scikit-learn) (1.13.1)\n",
            "Requirement already satisfied: joblib>=1.2.0 in /usr/local/lib/python3.11/dist-packages (from scikit-learn) (1.4.2)\n",
            "Requirement already satisfied: threadpoolctl>=3.1.0 in /usr/local/lib/python3.11/dist-packages (from scikit-learn) (3.5.0)\n",
            "Requirement already satisfied: six>=1.5 in /usr/local/lib/python3.11/dist-packages (from python-dateutil>=2.8.2->pandas) (1.17.0)\n"
          ]
        }
      ]
    },
    {
      "cell_type": "code",
      "execution_count": 2,
      "metadata": {
        "id": "dPMbZ7veyfLd"
      },
      "outputs": [],
      "source": [
        "import pandas as pd\n",
        "import numpy as np\n",
        "import matplotlib.pyplot as plt\n",
        "import seaborn as sns\n",
        "\n",
        "customers = pd.read_csv('./Customers.csv')\n",
        "products = pd.read_csv('./Products.csv')\n",
        "transactions = pd.read_csv('./Transactions.csv')"
      ]
    },
    {
      "cell_type": "markdown",
      "source": [
        "## Prepare the Data"
      ],
      "metadata": {
        "id": "_-TcGv7s0DS_"
      }
    },
    {
      "cell_type": "code",
      "source": [
        "merged_df = transactions.merge(customers, on='CustomerID', how='left')\n",
        "merged_df = merged_df.merge(products, on='ProductID', how='left')"
      ],
      "metadata": {
        "id": "8DhxlDGV0BHp"
      },
      "execution_count": 3,
      "outputs": []
    },
    {
      "cell_type": "markdown",
      "source": [
        "## feature set for each customer"
      ],
      "metadata": {
        "id": "eMBt2Pge0NHA"
      }
    },
    {
      "cell_type": "code",
      "source": [
        "customer_features = merged_df.groupby('CustomerID').agg({\n",
        "    'TotalValue': 'sum',\n",
        "    'TransactionID': 'count',\n",
        "    'Category': lambda x: x.mode()[0]  # Most frequent category\n",
        "}).rename(columns={\n",
        "    'TotalValue': 'TotalSpending',\n",
        "    'TransactionID': 'NumTransactions',\n",
        "    'Category': 'PreferredCategory'\n",
        "}).reset_index()\n",
        "print(customer_features.head())"
      ],
      "metadata": {
        "colab": {
          "base_uri": "https://localhost:8080/"
        },
        "id": "gOq9aG0A0P-K",
        "outputId": "231a1615-45a8-4ca6-b456-55749c59f1d8"
      },
      "execution_count": 4,
      "outputs": [
        {
          "output_type": "stream",
          "name": "stdout",
          "text": [
            "  CustomerID  TotalSpending  NumTransactions PreferredCategory\n",
            "0      C0001        3354.52                5       Electronics\n",
            "1      C0002        1862.74                4          Clothing\n",
            "2      C0003        2725.38                4        Home Decor\n",
            "3      C0004        5354.88                8             Books\n",
            "4      C0005        2034.24                3       Electronics\n"
          ]
        }
      ]
    },
    {
      "cell_type": "markdown",
      "source": [
        "## Encode Categorical Data"
      ],
      "metadata": {
        "id": "ukTuHmid0SYb"
      }
    },
    {
      "cell_type": "markdown",
      "source": [
        "### Encode the PreferredCategory column using one-hot encoding"
      ],
      "metadata": {
        "id": "9Zpc_CPX0ZJa"
      }
    },
    {
      "cell_type": "code",
      "source": [
        "customer_features = pd.get_dummies(customer_features, columns=['PreferredCategory'])"
      ],
      "metadata": {
        "id": "kYdZ2e450WF1"
      },
      "execution_count": 5,
      "outputs": []
    },
    {
      "cell_type": "markdown",
      "source": [
        "## Calculate Similarity"
      ],
      "metadata": {
        "id": "Z6QJg57F0cZ6"
      }
    },
    {
      "cell_type": "markdown",
      "source": [
        "### cosine similarity to find similar customers"
      ],
      "metadata": {
        "id": "k61Ko-7S0fp3"
      }
    },
    {
      "cell_type": "code",
      "source": [
        "from sklearn.metrics.pairwise import cosine_similarity\n",
        "\n",
        "similarity_matrix = cosine_similarity(customer_features.iloc[:, 1:])  # Exclude CustomerID\n",
        "similarity_df = pd.DataFrame(\n",
        "    similarity_matrix,\n",
        "    index=customer_features['CustomerID'],\n",
        "    columns=customer_features['CustomerID']\n",
        ")\n",
        "print(similarity_df.head())"
      ],
      "metadata": {
        "colab": {
          "base_uri": "https://localhost:8080/"
        },
        "id": "rVfkkqdr0jfy",
        "outputId": "df05f81d-0474-4b96-94d8-2c8e132fcad3"
      },
      "execution_count": 6,
      "outputs": [
        {
          "output_type": "stream",
          "name": "stdout",
          "text": [
            "CustomerID  C0001  C0002  C0003  C0004  C0005     C0006     C0007     C0008  \\\n",
            "CustomerID                                                                    \n",
            "C0001         1.0    1.0    1.0    1.0    1.0  1.000000  1.000000  1.000000   \n",
            "C0002         1.0    1.0    1.0    1.0    1.0  0.999999  0.999999  1.000000   \n",
            "C0003         1.0    1.0    1.0    1.0    1.0  1.000000  1.000000  1.000000   \n",
            "C0004         1.0    1.0    1.0    1.0    1.0  1.000000  1.000000  1.000000   \n",
            "C0005         1.0    1.0    1.0    1.0    1.0  1.000000  1.000000  0.999999   \n",
            "\n",
            "CustomerID     C0009     C0010  ...  C0191  C0192     C0193  C0194  C0195  \\\n",
            "CustomerID                      ...                                         \n",
            "C0001       0.999998  0.999999  ...    1.0    1.0  1.000000    1.0    1.0   \n",
            "C0002       0.999999  1.000000  ...    1.0    1.0  0.999999    1.0    1.0   \n",
            "C0003       0.999998  0.999999  ...    1.0    1.0  1.000000    1.0    1.0   \n",
            "C0004       0.999998  0.999999  ...    1.0    1.0  1.000000    1.0    1.0   \n",
            "C0005       0.999998  0.999999  ...    1.0    1.0  1.000000    1.0    1.0   \n",
            "\n",
            "CustomerID     C0196  C0197     C0198  C0199     C0200  \n",
            "CustomerID                                              \n",
            "C0001       1.000000    1.0  0.999999    1.0  1.000000  \n",
            "C0002       0.999999    1.0  1.000000    1.0  0.999999  \n",
            "C0003       1.000000    1.0  0.999999    1.0  1.000000  \n",
            "C0004       1.000000    1.0  0.999999    1.0  1.000000  \n",
            "C0005       1.000000    1.0  0.999999    1.0  1.000000  \n",
            "\n",
            "[5 rows x 199 columns]\n"
          ]
        }
      ]
    },
    {
      "cell_type": "markdown",
      "source": [
        "## Using the customer_features DataFrame from the previous task"
      ],
      "metadata": {
        "id": "1EUEttYg6QNA"
      }
    },
    {
      "cell_type": "code",
      "source": [
        "from sklearn.preprocessing import StandardScaler\n",
        "\n",
        "scaler = StandardScaler()\n",
        "scaled_features = scaler.fit_transform(customer_features.iloc[:, 1:])"
      ],
      "metadata": {
        "id": "tHvE1xOU6ZS-"
      },
      "execution_count": 7,
      "outputs": []
    },
    {
      "cell_type": "markdown",
      "source": [
        "## Apply Clustering"
      ],
      "metadata": {
        "id": "8OmOjnpG63vU"
      }
    },
    {
      "cell_type": "markdown",
      "source": [
        "### KMeans clustering"
      ],
      "metadata": {
        "id": "DD_GMmrP64ws"
      }
    },
    {
      "cell_type": "code",
      "source": [
        "from sklearn.cluster import KMeans\n",
        "from sklearn.metrics import davies_bouldin_score\n",
        "\n",
        "db_scores = []\n",
        "for n_clusters in range(2, 11):\n",
        "    kmeans = KMeans(n_clusters=n_clusters, random_state=42)\n",
        "    clusters = kmeans.fit_predict(scaled_features)\n",
        "    db_score = davies_bouldin_score(scaled_features, clusters)\n",
        "    db_scores.append((n_clusters, db_score))\n",
        "\n",
        "optimal_clusters = min(db_scores, key=lambda x: x[1])\n",
        "print(f\"Optimal Clusters: {optimal_clusters[0]}, DB Index: {optimal_clusters[1]}\")"
      ],
      "metadata": {
        "colab": {
          "base_uri": "https://localhost:8080/"
        },
        "id": "3UW2ALTg7EIU",
        "outputId": "ef630f20-b47e-4d5a-c89d-dbcc2d17aa8f"
      },
      "execution_count": 8,
      "outputs": [
        {
          "output_type": "stream",
          "name": "stdout",
          "text": [
            "Optimal Clusters: 5, DB Index: 0.7040079101394886\n"
          ]
        }
      ]
    },
    {
      "cell_type": "markdown",
      "source": [
        "## Train Final Model"
      ],
      "metadata": {
        "id": "kfajtGJH7T62"
      }
    },
    {
      "cell_type": "markdown",
      "source": [
        "### Train the KMeans model with the optimal number of clusters"
      ],
      "metadata": {
        "id": "tRYVfiGU7W-u"
      }
    },
    {
      "cell_type": "code",
      "source": [
        "final_kmeans = KMeans(n_clusters=optimal_clusters[0], random_state=42)\n",
        "customer_features['Cluster'] = final_kmeans.fit_predict(scaled_features)"
      ],
      "metadata": {
        "id": "FjI9cTc17Y3T"
      },
      "execution_count": 9,
      "outputs": []
    },
    {
      "cell_type": "markdown",
      "source": [
        "## Visualize the Clusters"
      ],
      "metadata": {
        "id": "IOfLQRi47cYI"
      }
    },
    {
      "cell_type": "markdown",
      "source": [
        "### PCA for dimensionality reduction and visualize clusters"
      ],
      "metadata": {
        "id": "AN3u8QyE7dwA"
      }
    },
    {
      "cell_type": "code",
      "source": [
        "from sklearn.decomposition import PCA\n",
        "\n",
        "pca = PCA(n_components=2)\n",
        "reduced_features = pca.fit_transform(scaled_features)\n",
        "customer_features['PCA1'] = reduced_features[:, 0]\n",
        "customer_features['PCA2'] = reduced_features[:, 1]\n",
        "\n",
        "plt.figure(figsize=(10, 6))\n",
        "sns.scatterplot(\n",
        "    x='PCA1', y='PCA2', hue='Cluster', data=customer_features, palette='viridis'\n",
        ")\n",
        "plt.title('Customer Segments')\n",
        "plt.show()"
      ],
      "metadata": {
        "colab": {
          "base_uri": "https://localhost:8080/",
          "height": 564
        },
        "id": "9gxpCPxa7ghP",
        "outputId": "29650ef8-f9a8-40ce-ec75-895cf0f00a47"
      },
      "execution_count": 10,
      "outputs": [
        {
          "output_type": "display_data",
          "data": {
            "text/plain": [
              "<Figure size 1000x600 with 1 Axes>"
            ],
            "image/png": "[encoded data removed]"
          },
          "metadata": {}
        }
      ]
    },
    {
      "cell_type": "markdown",
      "source": [
        "## Save the Results"
      ],
      "metadata": {
        "id": "OqUZ5aze7ljQ"
      }
    },
    {
      "cell_type": "code",
      "source": [
        "customer_features[['CustomerID', 'Cluster']].to_csv('FirstName_LastName_Clustering.csv', index=False)\n"
      ],
      "metadata": {
        "id": "x4YEnIo77nr8"
      },
      "execution_count": 11,
      "outputs": []
    }
  ]
}
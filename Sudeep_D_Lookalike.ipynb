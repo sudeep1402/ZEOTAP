{
  "nbformat": 4,
  "nbformat_minor": 0,
  "metadata": {
    "colab": {
      "provenance": []
    },
    "kernelspec": {
      "name": "python3",
      "display_name": "Python 3"
    },
    "language_info": {
      "name": "python"
    }
  },
  "cells": [
    {
      "cell_type": "markdown",
      "source": [
        "# Lookalike Model"
      ],
      "metadata": {
        "id": "isX_ruvhyoFp"
      }
    },
    {
      "cell_type": "code",
      "source": [
        "!pip install pandas numpy matplotlib seaborn scikit-learn"
      ],
      "metadata": {
        "colab": {
          "base_uri": "https://localhost:8080/"
        },
        "id": "60MAd6gjywXM",
        "outputId": "b16561a7-4626-441e-d087-ff5d21711e60"
      },
      "execution_count": 2,
      "outputs": [
        {
          "output_type": "stream",
          "name": "stdout",
          "text": [
            "Requirement already satisfied: pandas in /usr/local/lib/python3.11/dist-packages (2.2.2)\n",
            "Requirement already satisfied: numpy in /usr/local/lib/python3.11/dist-packages (1.26.4)\n",
            "Requirement already satisfied: matplotlib in /usr/local/lib/python3.11/dist-packages (3.10.0)\n",
            "Requirement already satisfied: seaborn in /usr/local/lib/python3.11/dist-packages (0.13.2)\n",
            "Requirement already satisfied: scikit-learn in /usr/local/lib/python3.11/dist-packages (1.6.1)\n",
            "Requirement already satisfied: python-dateutil>=2.8.2 in /usr/local/lib/python3.11/dist-packages (from pandas) (2.8.2)\n",
            "Requirement already satisfied: pytz>=2020.1 in /usr/local/lib/python3.11/dist-packages (from pandas) (2024.2)\n",
            "Requirement already satisfied: tzdata>=2022.7 in /usr/local/lib/python3.11/dist-packages (from pandas) (2025.1)\n",
            "Requirement already satisfied: contourpy>=1.0.1 in /usr/local/lib/python3.11/dist-packages (from matplotlib) (1.3.1)\n",
            "Requirement already satisfied: cycler>=0.10 in /usr/local/lib/python3.11/dist-packages (from matplotlib) (0.12.1)\n",
            "Requirement already satisfied: fonttools>=4.22.0 in /usr/local/lib/python3.11/dist-packages (from matplotlib) (4.55.4)\n",
            "Requirement already satisfied: kiwisolver>=1.3.1 in /usr/local/lib/python3.11/dist-packages (from matplotlib) (1.4.8)\n",
            "Requirement already satisfied: packaging>=20.0 in /usr/local/lib/python3.11/dist-packages (from matplotlib) (24.2)\n",
            "Requirement already satisfied: pillow>=8 in /usr/local/lib/python3.11/dist-packages (from matplotlib) (11.1.0)\n",
            "Requirement already satisfied: pyparsing>=2.3.1 in /usr/local/lib/python3.11/dist-packages (from matplotlib) (3.2.1)\n",
            "Requirement already satisfied: scipy>=1.6.0 in /usr/local/lib/python3.11/dist-packages (from scikit-learn) (1.13.1)\n",
            "Requirement already satisfied: joblib>=1.2.0 in /usr/local/lib/python3.11/dist-packages (from scikit-learn) (1.4.2)\n",
            "Requirement already satisfied: threadpoolctl>=3.1.0 in /usr/local/lib/python3.11/dist-packages (from scikit-learn) (3.5.0)\n",
            "Requirement already satisfied: six>=1.5 in /usr/local/lib/python3.11/dist-packages (from python-dateutil>=2.8.2->pandas) (1.17.0)\n"
          ]
        }
      ]
    },
    {
      "cell_type": "code",
      "execution_count": 4,
      "metadata": {
        "id": "dPMbZ7veyfLd"
      },
      "outputs": [],
      "source": [
        "import pandas as pd\n",
        "import numpy as np\n",
        "import matplotlib.pyplot as plt\n",
        "import seaborn as sns\n",
        "\n",
        "customers = pd.read_csv('./Customers.csv')\n",
        "products = pd.read_csv('./Products.csv')\n",
        "transactions = pd.read_csv('./Transactions.csv')"
      ]
    },
    {
      "cell_type": "markdown",
      "source": [
        "## Prepare the Data"
      ],
      "metadata": {
        "id": "_-TcGv7s0DS_"
      }
    },
    {
      "cell_type": "code",
      "source": [
        "merged_df = transactions.merge(customers, on='CustomerID', how='left')\n",
        "merged_df = merged_df.merge(products, on='ProductID', how='left')"
      ],
      "metadata": {
        "id": "8DhxlDGV0BHp"
      },
      "execution_count": 5,
      "outputs": []
    },
    {
      "cell_type": "markdown",
      "source": [
        "## feature set for each customer"
      ],
      "metadata": {
        "id": "eMBt2Pge0NHA"
      }
    },
    {
      "cell_type": "code",
      "source": [
        "customer_features = merged_df.groupby('CustomerID').agg({\n",
        "    'TotalValue': 'sum',\n",
        "    'TransactionID': 'count',\n",
        "    'Category': lambda x: x.mode()[0]  # Most frequent category\n",
        "}).rename(columns={\n",
        "    'TotalValue': 'TotalSpending',\n",
        "    'TransactionID': 'NumTransactions',\n",
        "    'Category': 'PreferredCategory'\n",
        "}).reset_index()\n",
        "print(customer_features.head())"
      ],
      "metadata": {
        "colab": {
          "base_uri": "https://localhost:8080/"
        },
        "id": "gOq9aG0A0P-K",
        "outputId": "b2a7d493-8c1a-44bf-cf49-7a43e279f357"
      },
      "execution_count": 6,
      "outputs": [
        {
          "output_type": "stream",
          "name": "stdout",
          "text": [
            "  CustomerID  TotalSpending  NumTransactions PreferredCategory\n",
            "0      C0001        3354.52                5       Electronics\n",
            "1      C0002        1862.74                4          Clothing\n",
            "2      C0003        2725.38                4        Home Decor\n",
            "3      C0004        5354.88                8             Books\n",
            "4      C0005        2034.24                3       Electronics\n"
          ]
        }
      ]
    },
    {
      "cell_type": "markdown",
      "source": [
        "## Encode Categorical Data"
      ],
      "metadata": {
        "id": "ukTuHmid0SYb"
      }
    },
    {
      "cell_type": "markdown",
      "source": [
        "### Encode the PreferredCategory column using one-hot encoding"
      ],
      "metadata": {
        "id": "9Zpc_CPX0ZJa"
      }
    },
    {
      "cell_type": "code",
      "source": [
        "customer_features = pd.get_dummies(customer_features, columns=['PreferredCategory'])"
      ],
      "metadata": {
        "id": "kYdZ2e450WF1"
      },
      "execution_count": 7,
      "outputs": []
    },
    {
      "cell_type": "markdown",
      "source": [
        "## Calculate Similarity"
      ],
      "metadata": {
        "id": "Z6QJg57F0cZ6"
      }
    },
    {
      "cell_type": "markdown",
      "source": [
        "### cosine similarity to find similar customers"
      ],
      "metadata": {
        "id": "k61Ko-7S0fp3"
      }
    },
    {
      "cell_type": "code",
      "source": [
        "from sklearn.metrics.pairwise import cosine_similarity\n",
        "\n",
        "similarity_matrix = cosine_similarity(customer_features.iloc[:, 1:])  # Exclude CustomerID\n",
        "similarity_df = pd.DataFrame(\n",
        "    similarity_matrix,\n",
        "    index=customer_features['CustomerID'],\n",
        "    columns=customer_features['CustomerID']\n",
        ")\n",
        "print(similarity_df.head())"
      ],
      "metadata": {
        "colab": {
          "base_uri": "https://localhost:8080/"
        },
        "id": "rVfkkqdr0jfy",
        "outputId": "a1879168-f8cd-4477-8834-abd4f727ba23"
      },
      "execution_count": 8,
      "outputs": [
        {
          "output_type": "stream",
          "name": "stdout",
          "text": [
            "CustomerID  C0001  C0002  C0003  C0004  C0005     C0006     C0007     C0008  \\\n",
            "CustomerID                                                                    \n",
            "C0001         1.0    1.0    1.0    1.0    1.0  1.000000  1.000000  1.000000   \n",
            "C0002         1.0    1.0    1.0    1.0    1.0  0.999999  0.999999  1.000000   \n",
            "C0003         1.0    1.0    1.0    1.0    1.0  1.000000  1.000000  1.000000   \n",
            "C0004         1.0    1.0    1.0    1.0    1.0  1.000000  1.000000  1.000000   \n",
            "C0005         1.0    1.0    1.0    1.0    1.0  1.000000  1.000000  0.999999   \n",
            "\n",
            "CustomerID     C0009     C0010  ...  C0191  C0192     C0193  C0194  C0195  \\\n",
            "CustomerID                      ...                                         \n",
            "C0001       0.999998  0.999999  ...    1.0    1.0  1.000000    1.0    1.0   \n",
            "C0002       0.999999  1.000000  ...    1.0    1.0  0.999999    1.0    1.0   \n",
            "C0003       0.999998  0.999999  ...    1.0    1.0  1.000000    1.0    1.0   \n",
            "C0004       0.999998  0.999999  ...    1.0    1.0  1.000000    1.0    1.0   \n",
            "C0005       0.999998  0.999999  ...    1.0    1.0  1.000000    1.0    1.0   \n",
            "\n",
            "CustomerID     C0196  C0197     C0198  C0199     C0200  \n",
            "CustomerID                                              \n",
            "C0001       1.000000    1.0  0.999999    1.0  1.000000  \n",
            "C0002       0.999999    1.0  1.000000    1.0  0.999999  \n",
            "C0003       1.000000    1.0  0.999999    1.0  1.000000  \n",
            "C0004       1.000000    1.0  0.999999    1.0  1.000000  \n",
            "C0005       1.000000    1.0  0.999999    1.0  1.000000  \n",
            "\n",
            "[5 rows x 199 columns]\n"
          ]
        }
      ]
    },
    {
      "cell_type": "markdown",
      "source": [
        "## Top 3 Similar Customers"
      ],
      "metadata": {
        "id": "3qql0CVa0ovX"
      }
    },
    {
      "cell_type": "markdown",
      "source": [
        "### For each of the first 20 customers (C0001 to C0020)"
      ],
      "metadata": {
        "id": "ZUUfZYfa0p0-"
      }
    },
    {
      "cell_type": "code",
      "source": [
        "lookalike_map = {}\n",
        "\n",
        "for customer in customer_features['CustomerID'][:20]:\n",
        "    similar_customers = similarity_df[customer].sort_values(ascending=False).iloc[1:4]\n",
        "    lookalike_map[customer] = list(zip(similar_customers.index, similar_customers.values))\n",
        "\n",
        "print(lookalike_map)"
      ],
      "metadata": {
        "colab": {
          "base_uri": "https://localhost:8080/"
        },
        "id": "kF6BMzUz0sSZ",
        "outputId": "a64053ac-1039-43db-8781-6da4f0dd142a"
      },
      "execution_count": 9,
      "outputs": [
        {
          "output_type": "stream",
          "name": "stdout",
          "text": [
            "{'C0001': [('C0039', 0.9999999952285652), ('C0035', 0.9999999945678594), ('C0146', 0.999999993731339)], 'C0002': [('C0029', 0.9999999954613772), ('C0103', 0.9999999846113045), ('C0010', 0.9999999824949058)], 'C0003': [('C0178', 0.9999999999572835), ('C0152', 0.9999999973975879), ('C0159', 0.999999993115422)], 'C0004': [('C0021', 0.9999999998367862), ('C0075', 0.9999999988734848), ('C0101', 0.9999999985853775)], 'C0005': [('C0112', 0.9999999982426493), ('C0197', 0.9999999963783862), ('C0035', 0.9999999919482886)], 'C0006': [('C0117', 0.9999999988358368), ('C0171', 0.9999999987827094), ('C0044', 0.999999997180717)], 'C0007': [('C0120', 0.9999999985154543), ('C0026', 0.9999999937558456), ('C0140', 0.9999999845489194)], 'C0008': [('C0076', 0.9999999614936271), ('C0139', 0.9999999197663533), ('C0047', 0.9999999071628308)], 'C0009': [('C0077', 0.9999999689015278), ('C0049', 0.999999760463356), ('C0111', 0.9999994850024262)], 'C0010': [('C0029', 0.9999999957831188), ('C0088', 0.9999999934312624), ('C0002', 0.9999999824949058)], 'C0011': [('C0169', 0.9999999987278765), ('C0057', 0.9999999987051156), ('C0126', 0.9999999984504748)], 'C0012': [('C0065', 0.9999999976063693), ('C0136', 0.9999999974838071), ('C0104', 0.9999999917743528)], 'C0013': [('C0143', 0.9999999999630935), ('C0099', 0.9999999995380477), ('C0053', 0.9999999990485636)], 'C0014': [('C0151', 0.9999982393280366), ('C0128', 0.9999981463514821), ('C0025', 0.9999966586711817)], 'C0015': [('C0063', 0.9999999521513171), ('C0123', 0.9999999439820789), ('C0132', 0.9999999418211855)], 'C0016': [('C0183', 0.9999999999657873), ('C0022', 0.9999999990619887), ('C0092', 0.9999999966616735)], 'C0017': [('C0090', 0.9999999994722939), ('C0081', 0.9999999973538813), ('C0175', 0.9999999961409693)], 'C0018': [('C0187', 0.9999999992330502), ('C0087', 0.9999999982326767), ('C0117', 0.9999999978493633)], 'C0019': [('C0161', 0.9999999705743084), ('C0047', 0.9999999471058973), ('C0147', 0.9999999457226068)], 'C0020': [('C0140', 0.9999998459587887), ('C0095', 0.9999998413927199), ('C0120', 0.9999997607939893)]}\n"
          ]
        }
      ]
    },
    {
      "cell_type": "markdown",
      "source": [
        "## Save the Lookalike Map results to a CSV file"
      ],
      "metadata": {
        "id": "g9z3J3HV0w2Q"
      }
    },
    {
      "cell_type": "code",
      "source": [
        "import csv\n",
        "\n",
        "with open('FirstName_LastName_Lookalike.csv', 'w', newline='') as csvfile:\n",
        "    writer = csv.writer(csvfile)\n",
        "    writer.writerow(['CustomerID', 'Lookalikes'])\n",
        "    for key, value in lookalike_map.items():\n",
        "        writer.writerow([key, value])"
      ],
      "metadata": {
        "id": "A3wBjqsQ00qP"
      },
      "execution_count": 12,
      "outputs": []
    }
  ]
}